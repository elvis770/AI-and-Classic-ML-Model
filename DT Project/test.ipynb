{
 "cells": [
  {
   "cell_type": "markdown",
   "metadata": {},
   "source": [
    "LOADING THE DATA"
   ]
  },
  {
   "cell_type": "code",
   "execution_count": 11,
   "metadata": {},
   "outputs": [
    {
     "data": {
      "text/html": [
       "<div>\n",
       "<style scoped>\n",
       "    .dataframe tbody tr th:only-of-type {\n",
       "        vertical-align: middle;\n",
       "    }\n",
       "\n",
       "    .dataframe tbody tr th {\n",
       "        vertical-align: top;\n",
       "    }\n",
       "\n",
       "    .dataframe thead th {\n",
       "        text-align: right;\n",
       "    }\n",
       "</style>\n",
       "<table border=\"1\" class=\"dataframe\">\n",
       "  <thead>\n",
       "    <tr style=\"text-align: right;\">\n",
       "      <th></th>\n",
       "      <th>text</th>\n",
       "      <th>language</th>\n",
       "    </tr>\n",
       "  </thead>\n",
       "  <tbody>\n",
       "    <tr>\n",
       "      <th>0</th>\n",
       "      <td>ich denke es handelt sich hier um ein missvers...</td>\n",
       "      <td>german</td>\n",
       "    </tr>\n",
       "    <tr>\n",
       "      <th>1</th>\n",
       "      <td>ich habe tom gerade erst verlassen</td>\n",
       "      <td>german</td>\n",
       "    </tr>\n",
       "    <tr>\n",
       "      <th>2</th>\n",
       "      <td>tom versuchte mary nur zu ärgern</td>\n",
       "      <td>german</td>\n",
       "    </tr>\n",
       "    <tr>\n",
       "      <th>3</th>\n",
       "      <td>tom hat mir die hand geküsst</td>\n",
       "      <td>german</td>\n",
       "    </tr>\n",
       "    <tr>\n",
       "      <th>4</th>\n",
       "      <td>ich wusste dass dir das gefiele</td>\n",
       "      <td>german</td>\n",
       "    </tr>\n",
       "  </tbody>\n",
       "</table>\n",
       "</div>"
      ],
      "text/plain": [
       "                                                text language\n",
       "0  ich denke es handelt sich hier um ein missvers...   german\n",
       "1                 ich habe tom gerade erst verlassen   german\n",
       "2                   tom versuchte mary nur zu ärgern   german\n",
       "3                       tom hat mir die hand geküsst   german\n",
       "4                    ich wusste dass dir das gefiele   german"
      ]
     },
     "execution_count": 11,
     "metadata": {},
     "output_type": "execute_result"
    }
   ],
   "source": [
    "import pandas as pd\n",
    "import numpy as np\n",
    "\n",
    "data = pd.read_csv('/Users/elvisechefu/Desktop/DT Project /languages.csv')\n",
    "data.head()"
   ]
  },
  {
   "cell_type": "markdown",
   "metadata": {},
   "source": [
    "DATA ANALYSIS"
   ]
  },
  {
   "cell_type": "code",
   "execution_count": 12,
   "metadata": {},
   "outputs": [
    {
     "name": "stdout",
     "output_type": "stream",
     "text": [
      "            text\n",
      "language        \n",
      "english   275687\n",
      "french    169693\n",
      "german    199618\n",
      "spanish   118686\n",
      "Total Length of dataset: 763684\n",
      "text        0\n",
      "language    0\n",
      "dtype: int64\n",
      "<class 'pandas.core.frame.DataFrame'>\n",
      "RangeIndex: 763684 entries, 0 to 763683\n",
      "Data columns (total 2 columns):\n",
      " #   Column    Non-Null Count   Dtype \n",
      "---  ------    --------------   ----- \n",
      " 0   text      763684 non-null  object\n",
      " 1   language  763684 non-null  object\n",
      "dtypes: object(2)\n",
      "memory usage: 11.7+ MB\n",
      "None\n"
     ]
    }
   ],
   "source": [
    "# Get all unique languages values\n",
    "print(data.groupby('language').nunique())\n",
    "print(f\"Total Length of dataset: {len(data)}\")\n",
    "\n",
    "\n",
    "# Check for missing values\n",
    "print(data.isnull().sum())\n",
    "\n",
    "\n",
    "# Explore the columns and their types\n",
    "print(data.info())"
   ]
  },
  {
   "cell_type": "markdown",
   "metadata": {},
   "source": [
    "DATA VISUALIZATION"
   ]
  },
  {
   "cell_type": "code",
   "execution_count": 13,
   "metadata": {},
   "outputs": [
    {
     "data": {
      "text/plain": [
       "<Axes: xlabel='language', ylabel='count'>"
      ]
     },
     "execution_count": 13,
     "metadata": {},
     "output_type": "execute_result"
    },
    {
     "data": {
      "image/png": "[encoded data removed]",
      "text/plain": [
       "<Figure size 640x480 with 1 Axes>"
      ]
     },
     "metadata": {},
     "output_type": "display_data"
    }
   ],
   "source": [
    "import matplotlib.pyplot as plt\n",
    "import seaborn as sns\n",
    "sns.countplot(x='language', data=data)"
   ]
  },
  {
   "cell_type": "markdown",
   "metadata": {},
   "source": [
    "ONEHOT ENCODER "
   ]
  },
  {
   "cell_type": "code",
   "execution_count": 14,
   "metadata": {},
   "outputs": [
    {
     "data": {
      "text/html": [
       "<div>\n",
       "<style scoped>\n",
       "    .dataframe tbody tr th:only-of-type {\n",
       "        vertical-align: middle;\n",
       "    }\n",
       "\n",
       "    .dataframe tbody tr th {\n",
       "        vertical-align: top;\n",
       "    }\n",
       "\n",
       "    .dataframe thead th {\n",
       "        text-align: right;\n",
       "    }\n",
       "</style>\n",
       "<table border=\"1\" class=\"dataframe\">\n",
       "  <thead>\n",
       "    <tr style=\"text-align: right;\">\n",
       "      <th></th>\n",
       "      <th>text</th>\n",
       "      <th>english</th>\n",
       "      <th>french</th>\n",
       "      <th>german</th>\n",
       "      <th>spanish</th>\n",
       "    </tr>\n",
       "  </thead>\n",
       "  <tbody>\n",
       "    <tr>\n",
       "      <th>0</th>\n",
       "      <td>ich denke es handelt sich hier um ein missvers...</td>\n",
       "      <td>False</td>\n",
       "      <td>False</td>\n",
       "      <td>True</td>\n",
       "      <td>False</td>\n",
       "    </tr>\n",
       "    <tr>\n",
       "      <th>1</th>\n",
       "      <td>ich habe tom gerade erst verlassen</td>\n",
       "      <td>False</td>\n",
       "      <td>False</td>\n",
       "      <td>True</td>\n",
       "      <td>False</td>\n",
       "    </tr>\n",
       "    <tr>\n",
       "      <th>2</th>\n",
       "      <td>tom versuchte mary nur zu ärgern</td>\n",
       "      <td>False</td>\n",
       "      <td>False</td>\n",
       "      <td>True</td>\n",
       "      <td>False</td>\n",
       "    </tr>\n",
       "    <tr>\n",
       "      <th>3</th>\n",
       "      <td>tom hat mir die hand geküsst</td>\n",
       "      <td>False</td>\n",
       "      <td>False</td>\n",
       "      <td>True</td>\n",
       "      <td>False</td>\n",
       "    </tr>\n",
       "    <tr>\n",
       "      <th>4</th>\n",
       "      <td>ich wusste dass dir das gefiele</td>\n",
       "      <td>False</td>\n",
       "      <td>False</td>\n",
       "      <td>True</td>\n",
       "      <td>False</td>\n",
       "    </tr>\n",
       "    <tr>\n",
       "      <th>...</th>\n",
       "      <td>...</td>\n",
       "      <td>...</td>\n",
       "      <td>...</td>\n",
       "      <td>...</td>\n",
       "      <td>...</td>\n",
       "    </tr>\n",
       "    <tr>\n",
       "      <th>763679</th>\n",
       "      <td>its so noisy here i cant hear myself think</td>\n",
       "      <td>True</td>\n",
       "      <td>False</td>\n",
       "      <td>False</td>\n",
       "      <td>False</td>\n",
       "    </tr>\n",
       "    <tr>\n",
       "      <th>763680</th>\n",
       "      <td>i was born before you</td>\n",
       "      <td>True</td>\n",
       "      <td>False</td>\n",
       "      <td>False</td>\n",
       "      <td>False</td>\n",
       "    </tr>\n",
       "    <tr>\n",
       "      <th>763681</th>\n",
       "      <td>i promise ill be quiet</td>\n",
       "      <td>True</td>\n",
       "      <td>False</td>\n",
       "      <td>False</td>\n",
       "      <td>False</td>\n",
       "    </tr>\n",
       "    <tr>\n",
       "      <th>763682</th>\n",
       "      <td>this isnt french</td>\n",
       "      <td>True</td>\n",
       "      <td>False</td>\n",
       "      <td>False</td>\n",
       "      <td>False</td>\n",
       "    </tr>\n",
       "    <tr>\n",
       "      <th>763683</th>\n",
       "      <td>tom sought shelter from the rain</td>\n",
       "      <td>True</td>\n",
       "      <td>False</td>\n",
       "      <td>False</td>\n",
       "      <td>False</td>\n",
       "    </tr>\n",
       "  </tbody>\n",
       "</table>\n",
       "<p>763684 rows × 5 columns</p>\n",
       "</div>"
      ],
      "text/plain": [
       "                                                     text  english  french  \\\n",
       "0       ich denke es handelt sich hier um ein missvers...    False   False   \n",
       "1                      ich habe tom gerade erst verlassen    False   False   \n",
       "2                        tom versuchte mary nur zu ärgern    False   False   \n",
       "3                            tom hat mir die hand geküsst    False   False   \n",
       "4                         ich wusste dass dir das gefiele    False   False   \n",
       "...                                                   ...      ...     ...   \n",
       "763679         its so noisy here i cant hear myself think     True   False   \n",
       "763680                              i was born before you     True   False   \n",
       "763681                             i promise ill be quiet     True   False   \n",
       "763682                                   this isnt french     True   False   \n",
       "763683                   tom sought shelter from the rain     True   False   \n",
       "\n",
       "        german  spanish  \n",
       "0         True    False  \n",
       "1         True    False  \n",
       "2         True    False  \n",
       "3         True    False  \n",
       "4         True    False  \n",
       "...        ...      ...  \n",
       "763679   False    False  \n",
       "763680   False    False  \n",
       "763681   False    False  \n",
       "763682   False    False  \n",
       "763683   False    False  \n",
       "\n",
       "[763684 rows x 5 columns]"
      ]
     },
     "execution_count": 14,
     "metadata": {},
     "output_type": "execute_result"
    }
   ],
   "source": [
    "language =pd.get_dummies(data.language)\n",
    "datanew = pd.concat([data, language], axis=1)\n",
    "datanew = datanew.drop(columns='language')\n",
    "datanew"
   ]
  },
  {
   "cell_type": "code",
   "execution_count": 15,
   "metadata": {},
   "outputs": [],
   "source": [
    "X = datanew['text'].values\n",
    "y = datanew[['english', 'french', 'german', 'spanish']].values"
   ]
  },
  {
   "cell_type": "code",
   "execution_count": 16,
   "metadata": {},
   "outputs": [
    {
     "name": "stdout",
     "output_type": "stream",
     "text": [
      "Train set shapes: (458210,) (458210, 4)\n",
      "Validation set shapes: (152737,) (152737, 4)\n",
      "Test set shapes: (152737,) (152737, 4)\n"
     ]
    }
   ],
   "source": [
    "from sklearn.model_selection import train_test_split\n",
    "\n",
    "# Split the data into train and test sets\n",
    "X_train, X_test, y_train, y_test = train_test_split(X, y, test_size=0.2, random_state=42)\n",
    "\n",
    "# Split the train set into train and validation sets\n",
    "X_train, X_val, y_train, y_val = train_test_split(X_train, y_train, test_size=0.25, random_state=42)\n",
    "\n",
    "# Print the shapes of the resulting sets\n",
    "print(\"Train set shapes:\", X_train.shape, y_train.shape)\n",
    "print(\"Validation set shapes:\", X_val.shape, y_val.shape)\n",
    "print(\"Test set shapes:\", X_test.shape, y_test.shape)\n"
   ]
  },
  {
   "cell_type": "code",
   "execution_count": 17,
   "metadata": {},
   "outputs": [],
   "source": [
    "#from sklearn.model_selection import train_test_split\n",
    "#text_train, text_val, label_train, label_val = train_test_split(text, label, test_size=0.2)"
   ]
  },
  {
   "cell_type": "code",
   "execution_count": 18,
   "metadata": {},
   "outputs": [],
   "source": [
    "from tensorflow.keras.preprocessing.text import Tokenizer\n",
    "from tensorflow.keras.preprocessing.sequence import pad_sequences"
   ]
  },
  {
   "cell_type": "markdown",
   "metadata": {},
   "source": [
    "TOKENIZATION OF THE SPLIT DATASETS"
   ]
  },
  {
   "cell_type": "code",
   "execution_count": 19,
   "metadata": {},
   "outputs": [],
   "source": [
    "tokenizer = Tokenizer(num_words=8000, oov_token='<OOV>')\n",
    "tokenizer.fit_on_texts(X_train)\n",
    "tokenizer.fit_on_texts(X_val)\n"
   ]
  },
  {
   "cell_type": "markdown",
   "metadata": {},
   "source": [
    "IMPLEMENTATION OF PADDED SEQUENCE"
   ]
  },
  {
   "cell_type": "code",
   "execution_count": 20,
   "metadata": {},
   "outputs": [],
   "source": [
    "sequences_train = tokenizer.texts_to_sequences(X_train)\n",
    "sequences_val = tokenizer.texts_to_sequences(X_val)\n",
    "sequences_test = tokenizer.texts_to_sequences(X_test)\n",
    "\n",
    "padded_train = pad_sequences(sequences_train) \n",
    "padded_val = pad_sequences(sequences_val)\n",
    "padded_test = pad_sequences(sequences_test)"
   ]
  },
  {
   "cell_type": "code",
   "execution_count": 21,
   "metadata": {},
   "outputs": [],
   "source": [
    "import tensorflow as tf\n",
    "from tensorflow.keras.models import Sequential\n",
    "from tensorflow.keras.layers import Dense, LSTM, Embedding, Dropout\n",
    "from tensorflow.keras.layers import Activation\n",
    "from tensorflow.keras.optimizers import Adam\n",
    "from tensorflow.keras.callbacks import EarlyStopping\n"
   ]
  },
  {
   "cell_type": "code",
   "execution_count": 22,
   "metadata": {},
   "outputs": [
    {
     "name": "stdout",
     "output_type": "stream",
     "text": [
      "Model: \"sequential\"\n",
      "_________________________________________________________________\n",
      " Layer (type)                Output Shape              Param #   \n",
      "=================================================================\n",
      " embedding (Embedding)       (None, None, 64)          512000    \n",
      "                                                                 \n",
      " lstm (LSTM)                 (None, 32)                12416     \n",
      "                                                                 \n",
      " dense (Dense)               (None, 128)               4224      \n",
      "                                                                 \n",
      " dense_1 (Dense)             (None, 64)                8256      \n",
      "                                                                 \n",
      " dropout (Dropout)           (None, 64)                0         \n",
      "                                                                 \n",
      " dense_2 (Dense)             (None, 4)                 260       \n",
      "                                                                 \n",
      "=================================================================\n",
      "Total params: 537,156\n",
      "Trainable params: 537,156\n",
      "Non-trainable params: 0\n",
      "_________________________________________________________________\n"
     ]
    }
   ],
   "source": [
    "model = Sequential([\n",
    "    Embedding(input_dim=8000, output_dim=64),\n",
    "    LSTM(32),\n",
    "    Dense(128, activation='relu'),\n",
    "    Dense(64, activation='relu'),\n",
    "    Dropout(0.5),\n",
    "    Dense(4, activation='softmax')\n",
    "])\n",
    "\n",
    "model.summary()"
   ]
  },
  {
   "cell_type": "code",
   "execution_count": 23,
   "metadata": {},
   "outputs": [],
   "source": [
    "from sklearn.metrics import accuracy_score, precision_score, recall_score, f1_score\n",
    "model.compile(loss='categorical_crossentropy',\n",
    "              optimizer='adam',\n",
    "              metrics=['accuracy', \n",
    "                       tf.keras.metrics.Precision(),  # Include precision metric\n",
    "                       tf.keras.metrics.Recall(),  # Include recall metric\n",
    "                       tf.keras.metrics.AUC()])\n"
   ]
  },
  {
   "cell_type": "code",
   "execution_count": 24,
   "metadata": {},
   "outputs": [],
   "source": [
    "class mycb(tf.keras.callbacks.Callback):\n",
    "    def on_epoch_end(self, epoch, logs=None):\n",
    "        if logs.get('accuracy') >= 0.92 and logs.get('val_accuracy') >= 0.92:\n",
    "            print('\\nFor Epoch', epoch, '\\nAccuracy has reached %2.2f%%' % (logs['accuracy'] * 100), 'stopping training.')\n",
    "            self.model.stop_training = True"
   ]
  },
  {
   "cell_type": "code",
   "execution_count": 25,
   "metadata": {},
   "outputs": [
    {
     "name": "stdout",
     "output_type": "stream",
     "text": [
      "Epoch 1/50\n"
     ]
    },
    {
     "name": "stderr",
     "output_type": "stream",
     "text": [
      "2024-03-06 16:29:04.077720: W tensorflow/tsl/platform/profile_utils/cpu_utils.cc:128] Failed to get CPU frequency: 0 Hz\n"
     ]
    },
    {
     "name": "stdout",
     "output_type": "stream",
     "text": [
      "25/25 - 62s - loss: 1.2753 - accuracy: 0.4225 - precision: 0.9781 - recall: 0.0582 - auc: 0.7008 - val_loss: 0.9802 - val_accuracy: 0.6584 - val_precision: 0.9966 - val_recall: 0.3394 - val_auc: 0.8715 - 62s/epoch - 2s/step\n",
      "Epoch 2/50\n",
      "25/25 - 58s - loss: 0.6271 - accuracy: 0.7841 - precision: 0.9572 - recall: 0.6174 - auc: 0.9413 - val_loss: 0.3009 - val_accuracy: 0.8441 - val_precision: 0.9286 - val_recall: 0.8374 - val_auc: 0.9910 - 58s/epoch - 2s/step\n",
      "Epoch 3/50\n",
      "\n",
      "For Epoch 2 \n",
      "Accuracy has reached 93.39% stopping training.\n",
      "25/25 - 55s - loss: 0.1949 - accuracy: 0.9339 - precision: 0.9657 - recall: 0.8983 - auc: 0.9958 - val_loss: 0.0714 - val_accuracy: 0.9853 - val_precision: 0.9900 - val_recall: 0.9819 - val_auc: 0.9995 - 55s/epoch - 2s/step\n"
     ]
    }
   ],
   "source": [
    "fitmodel = model.fit(padded_train, y_train,\n",
    "                     steps_per_epoch=25, epochs=50, \n",
    "                     validation_data=(padded_val, y_val), validation_steps=5,\n",
    "                     verbose=2, callbacks=[mycb()]\n",
    "                     )\n"
   ]
  },
  {
   "cell_type": "code",
   "execution_count": 26,
   "metadata": {},
   "outputs": [
    {
     "name": "stdout",
     "output_type": "stream",
     "text": [
      "4774/4774 [==============================] - 12s 2ms/step - loss: 0.0674 - accuracy: 0.9869 - precision: 0.9911 - recall: 0.9840 - auc: 0.9996\n",
      "0.0673624575138092\n",
      "0.986866295337677\n",
      "0.9911102056503296\n",
      "0.9839593768119812\n",
      "0.9996064305305481\n"
     ]
    }
   ],
   "source": [
    "# Prepare test data\n",
    "sequences_test = tokenizer.texts_to_sequences(X_test)\n",
    "padded_test = pad_sequences(sequences_test)\n",
    "\n",
    "# Evaluate model on test data\n",
    "test_loss, test_accuracy, test_precision, test_recall, test_auc = model.evaluate(padded_test, y_test)\n",
    "print(test_loss)\n",
    "print(test_accuracy)\n",
    "print(test_precision)\n",
    "print(test_recall)\n",
    "print( test_auc)\n"
   ]
  },
  {
   "cell_type": "code",
   "execution_count": 27,
   "metadata": {},
   "outputs": [
    {
     "name": "stdout",
     "output_type": "stream",
     "text": [
      "[0.4225049614906311, 0.7840553522109985, 0.93389493227005]\n",
      "[0.0582200288772583, 0.6174024939537048, 0.898334801197052]\n",
      "[0.9781110286712646, 0.9571919441223145, 0.9656643271446228]\n",
      "[1.275283694267273, 0.6271024942398071, 0.19494372606277466]\n",
      "[0.7007536888122559, 0.9412909150123596, 0.9958137273788452]\n"
     ]
    }
   ],
   "source": [
    "train_accuracy = fitmodel.history['accuracy']\n",
    "train_recall = fitmodel.history['recall']\n",
    "train_precision = fitmodel.history['precision']\n",
    "train_loss = fitmodel.history['loss']\n",
    "train_auc = fitmodel.history['auc']\n",
    "\n",
    "print(train_accuracy)\n",
    "print(train_recall)\n",
    "print(train_precision)\n",
    "print(train_loss)\n",
    "print(train_auc)"
   ]
  }
 ],
 "metadata": {
  "kernelspec": {
   "display_name": "base",
   "language": "python",
   "name": "python3"
  },
  "language_info": {
   "codemirror_mode": {
    "name": "ipython",
    "version": 3
   },
   "file_extension": ".py",
   "mimetype": "text/x-python",
   "name": "python",
   "nbconvert_exporter": "python",
   "pygments_lexer": "ipython3",
   "version": "3.11.5"
  },
  "orig_nbformat": 4
 },
 "nbformat": 4,
 "nbformat_minor": 2
}
