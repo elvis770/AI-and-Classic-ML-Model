{
 "cells": [
  {
   "cell_type": "code",
   "execution_count": 1,
   "metadata": {},
   "outputs": [],
   "source": [
    "#importing the functions\n",
    "from langdetect import detect_langs\n",
    "from langdetect import detect\n",
    "\n",
    "\n",
    "# Function to predict languages in a text\n",
    "def predict_languages(text):\n",
    "    langs = detect_langs(text)\n",
    "    predictions = {}\n",
    "    for lang in langs:\n",
    "        predictions[lang.lang] = lang.prob\n",
    "    return predictions\n"
   ]
  },
  {
   "cell_type": "code",
   "execution_count": 2,
   "metadata": {},
   "outputs": [],
   "source": [
    "# Function to predict languages in a text and identify language segments\n",
    "def predict_languages_with_segments(text):\n",
    "    segments = []\n",
    "    current_lang = None\n",
    "    current_segment = \"\"\n",
    "    \n",
    "    # Split the text into sentences or paragraphs\n",
    "    sentences = text.split('.')\n",
    "    for sentence in sentences:\n",
    "        sentence = sentence.strip()\n",
    "        # Check if the sentence contains enough characters for language detection\n",
    "        if len(sentence) > 3:  # Adjust the threshold as needed\n",
    "            # Predict the language of the sentence\n",
    "            lang = detect(sentence)\n",
    "            if lang != current_lang:\n",
    "                # If the language changes, add the previous segment to the list\n",
    "                if current_segment.strip():\n",
    "                    segments.append((current_lang, current_segment.strip()))\n",
    "                # Start a new segment with the new language\n",
    "                current_segment = sentence\n",
    "                current_lang = lang\n",
    "            else:\n",
    "                # Add the sentence to the current segment\n",
    "                current_segment += \". \" + sentence\n",
    "    # Append the last segment\n",
    "    if current_segment.strip():\n",
    "        segments.append((current_lang, current_segment.strip()))\n",
    "    \n",
    "    return segments"
   ]
  },
  {
   "cell_type": "code",
   "execution_count": 3,
   "metadata": {},
   "outputs": [
    {
     "name": "stdout",
     "output_type": "stream",
     "text": [
      "Language Segments:\n",
      "- fr: C'est une bonne journée pour apprendre le français\n",
      "- en: Today is a good day to learn English\n"
     ]
    }
   ],
   "source": [
    "# Example text containing multiple languages\n",
    "text_to_predict = \"C'est une bonne journée pour apprendre le français. Today is a good day to learn English.\"\n",
    "\n",
    "# Predict languages and identify language segments in the text\n",
    "language_segments = predict_languages_with_segments(text_to_predict)\n",
    "\n",
    "# Display language segments\n",
    "print(\"Language Segments:\")\n",
    "for lang, segment in language_segments:\n",
    "    print(f\"- {lang}: {segment}\")"
   ]
  },
  {
   "cell_type": "code",
   "execution_count": 4,
   "metadata": {},
   "outputs": [
    {
     "name": "stdout",
     "output_type": "stream",
     "text": [
      "Language Segments:\n",
      "- fr: j'aime le fromage,\n",
      "- de: ich liebe Schokolade,\n",
      "- es: me encanta el helado,\n",
      "- en: what about me?\n"
     ]
    }
   ],
   "source": [
    "# Example text containing multiple languages\n",
    "text_to_predict = \" j'aime le fromage, ....ich liebe Schokolade, ....me encanta el helado, .....what about me?\"\n",
    "\n",
    "# Predict languages and identify language segments in the text\n",
    "language_segments = predict_languages_with_segments(text_to_predict)\n",
    "\n",
    "# Display language segments\n",
    "print(\"Language Segments:\")\n",
    "for lang, segment in language_segments:\n",
    "    print(f\"- {lang}: {segment}\")"
   ]
  },
  {
   "cell_type": "code",
   "execution_count": 5,
   "metadata": {},
   "outputs": [
    {
     "name": "stdout",
     "output_type": "stream",
     "text": [
      "Language Segments:\n",
      "- en: I love eating croissants and drinking\n",
      "- fr: café au lait\n",
      "- en: in Paris\n"
     ]
    }
   ],
   "source": [
    "# Example text containing multiple languages\n",
    "text_to_predict = \"I love eating croissants and drinking.... café au lait... in Paris.\"\n",
    "\n",
    "# Predict languages and identify language segments in the text\n",
    "language_segments = predict_languages_with_segments(text_to_predict)\n",
    "\n",
    "# Display language segments\n",
    "print(\"Language Segments:\")\n",
    "for lang, segment in language_segments:\n",
    "    print(f\"- {lang}: {segment}\")"
   ]
  },
  {
   "cell_type": "code",
   "execution_count": 6,
   "metadata": {},
   "outputs": [
    {
     "name": "stdout",
     "output_type": "stream",
     "text": [
      "Language Segments:\n",
      "- en: I woke up early in the morning, feeling refreshed and ready for the day ahead\n",
      "- de: Ich stand früh am Morgen auf, fühlte mich erfrischt und bereit für den Tag\n",
      "- es: Me desperté temprano en la mañana, sintiéndome renovado y listo para el día\n",
      "- fr: Je me suis réveillé tôt le matin, me sentant rafraîchi et prêt pour la journé\n"
     ]
    }
   ],
   "source": [
    "# Example text containing multiple languages\n",
    "text_to_predict = \"I woke up early in the morning, feeling refreshed and ready for the day ahead ... Ich stand früh am Morgen auf, fühlte mich erfrischt und bereit für den Tag... Me desperté temprano en la mañana, sintiéndome renovado y listo para el día... Je me suis réveillé tôt le matin, me sentant rafraîchi et prêt pour la journé\"\n",
    "\n",
    "# Predict languages and identify language segments in the text\n",
    "language_segments = predict_languages_with_segments(text_to_predict)\n",
    "\n",
    "# Display language segments\n",
    "print(\"Language Segments:\")\n",
    "for lang, segment in language_segments:\n",
    "    print(f\"- {lang}: {segment}\")"
   ]
  }
 ],
 "metadata": {
  "kernelspec": {
   "display_name": "base",
   "language": "python",
   "name": "python3"
  },
  "language_info": {
   "codemirror_mode": {
    "name": "ipython",
    "version": 3
   },
   "file_extension": ".py",
   "mimetype": "text/x-python",
   "name": "python",
   "nbconvert_exporter": "python",
   "pygments_lexer": "ipython3",
   "version": "3.11.5"
  },
  "orig_nbformat": 4
 },
 "nbformat": 4,
 "nbformat_minor": 2
}
